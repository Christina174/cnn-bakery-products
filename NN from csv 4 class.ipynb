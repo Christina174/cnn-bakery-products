{
 "cells": [
  {
   "cell_type": "code",
   "execution_count": 1,
   "metadata": {},
   "outputs": [
    {
     "name": "stderr",
     "output_type": "stream",
     "text": [
      "/home/entilza/.local/lib/python3.7/site-packages/tensorflow/python/framework/dtypes.py:516: FutureWarning: Passing (type, 1) or '1type' as a synonym of type is deprecated; in a future version of numpy, it will be understood as (type, (1,)) / '(1,)type'.\n",
      "  _np_qint8 = np.dtype([(\"qint8\", np.int8, 1)])\n",
      "/home/entilza/.local/lib/python3.7/site-packages/tensorflow/python/framework/dtypes.py:517: FutureWarning: Passing (type, 1) or '1type' as a synonym of type is deprecated; in a future version of numpy, it will be understood as (type, (1,)) / '(1,)type'.\n",
      "  _np_quint8 = np.dtype([(\"quint8\", np.uint8, 1)])\n",
      "/home/entilza/.local/lib/python3.7/site-packages/tensorflow/python/framework/dtypes.py:518: FutureWarning: Passing (type, 1) or '1type' as a synonym of type is deprecated; in a future version of numpy, it will be understood as (type, (1,)) / '(1,)type'.\n",
      "  _np_qint16 = np.dtype([(\"qint16\", np.int16, 1)])\n",
      "/home/entilza/.local/lib/python3.7/site-packages/tensorflow/python/framework/dtypes.py:519: FutureWarning: Passing (type, 1) or '1type' as a synonym of type is deprecated; in a future version of numpy, it will be understood as (type, (1,)) / '(1,)type'.\n",
      "  _np_quint16 = np.dtype([(\"quint16\", np.uint16, 1)])\n",
      "/home/entilza/.local/lib/python3.7/site-packages/tensorflow/python/framework/dtypes.py:520: FutureWarning: Passing (type, 1) or '1type' as a synonym of type is deprecated; in a future version of numpy, it will be understood as (type, (1,)) / '(1,)type'.\n",
      "  _np_qint32 = np.dtype([(\"qint32\", np.int32, 1)])\n",
      "/home/entilza/.local/lib/python3.7/site-packages/tensorflow/python/framework/dtypes.py:525: FutureWarning: Passing (type, 1) or '1type' as a synonym of type is deprecated; in a future version of numpy, it will be understood as (type, (1,)) / '(1,)type'.\n",
      "  np_resource = np.dtype([(\"resource\", np.ubyte, 1)])\n",
      "/home/entilza/.local/lib/python3.7/site-packages/tensorboard/compat/tensorflow_stub/dtypes.py:541: FutureWarning: Passing (type, 1) or '1type' as a synonym of type is deprecated; in a future version of numpy, it will be understood as (type, (1,)) / '(1,)type'.\n",
      "  _np_qint8 = np.dtype([(\"qint8\", np.int8, 1)])\n",
      "/home/entilza/.local/lib/python3.7/site-packages/tensorboard/compat/tensorflow_stub/dtypes.py:542: FutureWarning: Passing (type, 1) or '1type' as a synonym of type is deprecated; in a future version of numpy, it will be understood as (type, (1,)) / '(1,)type'.\n",
      "  _np_quint8 = np.dtype([(\"quint8\", np.uint8, 1)])\n",
      "/home/entilza/.local/lib/python3.7/site-packages/tensorboard/compat/tensorflow_stub/dtypes.py:543: FutureWarning: Passing (type, 1) or '1type' as a synonym of type is deprecated; in a future version of numpy, it will be understood as (type, (1,)) / '(1,)type'.\n",
      "  _np_qint16 = np.dtype([(\"qint16\", np.int16, 1)])\n",
      "/home/entilza/.local/lib/python3.7/site-packages/tensorboard/compat/tensorflow_stub/dtypes.py:544: FutureWarning: Passing (type, 1) or '1type' as a synonym of type is deprecated; in a future version of numpy, it will be understood as (type, (1,)) / '(1,)type'.\n",
      "  _np_quint16 = np.dtype([(\"quint16\", np.uint16, 1)])\n",
      "/home/entilza/.local/lib/python3.7/site-packages/tensorboard/compat/tensorflow_stub/dtypes.py:545: FutureWarning: Passing (type, 1) or '1type' as a synonym of type is deprecated; in a future version of numpy, it will be understood as (type, (1,)) / '(1,)type'.\n",
      "  _np_qint32 = np.dtype([(\"qint32\", np.int32, 1)])\n",
      "/home/entilza/.local/lib/python3.7/site-packages/tensorboard/compat/tensorflow_stub/dtypes.py:550: FutureWarning: Passing (type, 1) or '1type' as a synonym of type is deprecated; in a future version of numpy, it will be understood as (type, (1,)) / '(1,)type'.\n",
      "  np_resource = np.dtype([(\"resource\", np.ubyte, 1)])\n"
     ]
    }
   ],
   "source": [
    "from tensorflow.python import keras\n",
    "from tensorflow.python.keras.preprocessing.image import ImageDataGenerator\n",
    "from tensorflow.python.keras.models import Sequential\n",
    "from tensorflow.python.keras.layers import Conv2D, MaxPooling2D\n",
    "from tensorflow.python.keras.layers import Activation, Dropout, Flatten, Dense\n",
    "import matplotlib.pyplot as plt\n",
    "%matplotlib inline\n",
    "from tensorflow.python.keras.applications import VGG16\n",
    "from tensorflow.python.keras.optimizers import Adam\n",
    "from tensorflow.keras.preprocessing import image\n",
    "import numpy as np\n",
    "import pandas\n",
    "from tensorflow.keras import utils\n",
    "import cv2\n",
    "from tensorflow.keras.preprocessing import image\n",
    "import numpy as np\n",
    "import pandas"
   ]
  },
  {
   "cell_type": "code",
   "execution_count": 2,
   "metadata": {},
   "outputs": [],
   "source": [
    "# Каталог с данными для обучения\n",
    "train_dir = './bigpic/transformed/train'\n",
    "# Каталог с данными для проверки\n",
    "val_dir = './bigpic/transformed/val'\n",
    "# Каталог с данными для тестирования\n",
    "test_dir = './bigpic/transformed/test'\n",
    "# Размеры изображения\n",
    "img_width, img_height = 100, 100\n",
    "# Размерность тензора на основе изображения для входных данных в нейронную сеть\n",
    "# backend Tensorflow, channels_last\n",
    "input_shape = (img_width, img_height, 3)\n",
    "# Количество эпох\n",
    "epochs = 30\n",
    "# Размер мини-выборки\n",
    "batch_size = 28\n",
    "# Количество изображений для обучения\n",
    "nb_train_samples = 656\n",
    "# Количество изображений для проверки\n",
    "nb_validation_samples = 83\n",
    "# Количество изображений для тестирования\n",
    "nb_test_samples = 83"
   ]
  },
  {
   "cell_type": "code",
   "execution_count": 10,
   "metadata": {},
   "outputs": [],
   "source": [
    "classes = ['круассан','полки','пончик', 'завиток',]"
   ]
  },
  {
   "cell_type": "code",
   "execution_count": 4,
   "metadata": {},
   "outputs": [
    {
     "name": "stdout",
     "output_type": "stream",
     "text": [
      "WARNING:tensorflow:From /home/entilza/.local/lib/python3.7/site-packages/tensorflow/python/ops/init_ops.py:1251: calling VarianceScaling.__init__ (from tensorflow.python.ops.init_ops) with dtype is deprecated and will be removed in a future version.\n",
      "Instructions for updating:\n",
      "Call initializer instance with the dtype argument instead of passing it to the constructor\n"
     ]
    }
   ],
   "source": [
    "vgg16_net = VGG16(weights='imagenet', include_top=False, input_shape=(img_width, img_height, 3))\n",
    "vgg16_net.trainable = False\n",
    "#vgg16_net.summary()"
   ]
  },
  {
   "cell_type": "code",
   "execution_count": 5,
   "metadata": {},
   "outputs": [],
   "source": [
    "model = Sequential()\n",
    "\n",
    "\n",
    "\n",
    "#model.add(Conv2D(32, (3, 3), input_shape=input_shape))\n",
    "#model.add(Activation('relu'))\n",
    "#model.add(MaxPooling2D(pool_size=(2, 2)))\n",
    "\n",
    "#model.add(Conv2D(32, (3, 3)))\n",
    "#model.add(Activation('relu'))\n",
    "#model.add(MaxPooling2D(pool_size=(2, 2)))\n",
    "\n",
    "#model.add(Conv2D(64, (3, 3)))\n",
    "#model.add(Activation('relu'))\n",
    "#model.add(MaxPooling2D(pool_size=(2, 2)))\n",
    "\n",
    "model.add(vgg16_net)\n",
    "model.add(Flatten())\n",
    "model.add(Dense(256))\n",
    "model.add(Activation('relu'))\n",
    "model.add(Dropout(0.5))\n",
    "model.add(Dense(4))\n",
    "model.add(Activation('sigmoid'))"
   ]
  },
  {
   "cell_type": "code",
   "execution_count": 17,
   "metadata": {},
   "outputs": [],
   "source": [
    "model.compile(loss='categorical_crossentropy',\n",
    "              optimizer=Adam(lr=0.001),\n",
    "              metrics=['accuracy'])"
   ]
  },
  {
   "cell_type": "code",
   "execution_count": 11,
   "metadata": {},
   "outputs": [],
   "source": [
    "def SaltAndPaper (im, probability):\n",
    "    # probability of the noise \n",
    "    out = np.random.randint(0,probability, im.shape)\n",
    "    out = out + im\n",
    "    out[out>255]=255\n",
    "    #out = out.astype(np.uint8)\n",
    "    return out\n",
    "\n",
    "def ColorBalance(im, probability):\n",
    "    colorB = np.random.random() * (1-probability) + probability\n",
    "    colorG = np.random.random() * (1-probability) + probability\n",
    "    colorR = np.random.random() * (1-probability) + probability\n",
    "    out = im.copy()\n",
    "    out[:,:,0] = im[:,:, 0] * colorB\n",
    "    out[:,:,1] = im[:,:, 1] * colorG\n",
    "    out[:,:,2] = im[:,:, 2] * colorR\n",
    "    return out\n",
    "\n",
    "def BoxFilter(im, ksize):\n",
    "    BoxFilter_image = cv2.boxFilter(im, 0, (ksize,ksize))\n",
    "    #BoxFilter_image\n",
    "    return BoxFilter_image\n",
    "\n",
    "def trah(img):\n",
    "    #img = ColorBalance(img, 0.5)\n",
    "    #img = BoxFilter(img, 3)\n",
    "    img = SaltAndPaper(img, 20)\n",
    "    img = img.astype(np.float32)\n",
    "    return img"
   ]
  },
  {
   "cell_type": "code",
   "execution_count": 12,
   "metadata": {},
   "outputs": [],
   "source": [
    "datagen = ImageDataGenerator(rescale=1./255., \n",
    "                             rotation_range=45,\n",
    "                             width_shift_range=0.2,\n",
    "                             height_shift_range=0.2,\n",
    "                             zoom_range=0.2,\n",
    "                             shear_range=0.2,\n",
    "                             brightness_range=[0.5, 1.0],\n",
    "                             channel_shift_range=0.2,\n",
    "                             horizontal_flip=True,\n",
    "                             vertical_flip=True,\n",
    "                             fill_mode=\"nearest\",\n",
    "                             preprocessing_function=trah\n",
    "                            )"
   ]
  },
  {
   "cell_type": "code",
   "execution_count": 74,
   "metadata": {},
   "outputs": [
    {
     "name": "stdout",
     "output_type": "stream",
     "text": [
      "11\n"
     ]
    }
   ],
   "source": [
    "img = image.load_img(\"./bigpic/transformed/train/cruassan.1.jpg\")\n",
    "img = image.img_to_array(img)\n",
    "img = np.expand_dims(img, axis=0)\n",
    "imageGen = datagen.flow(img, batch_size=1, save_to_dir=\"output\", save_prefix=\"output\", save_format=\"jpg\")\n",
    "total = 0\n",
    "for img in imageGen:\n",
    "    # increment our counter\n",
    "    total += 1\n",
    "    if total > 10:\n",
    "        break\n",
    "print(total)"
   ]
  },
  {
   "cell_type": "code",
   "execution_count": 13,
   "metadata": {},
   "outputs": [
    {
     "name": "stdout",
     "output_type": "stream",
     "text": [
      "Found 656 validated image filenames belonging to 4 classes.\n",
      "Found 83 validated image filenames belonging to 4 classes.\n",
      "Found 83 validated image filenames belonging to 4 classes.\n"
     ]
    }
   ],
   "source": [
    "test_df = pandas.read_csv(\"./bigpic/transformed/test.csv\")\n",
    "train_df = pandas.read_csv(\"./bigpic/transformed/train.csv\")\n",
    "val_df = pandas.read_csv(\"./bigpic/transformed/val.csv\")\n",
    "\n",
    "train_generator = datagen.flow_from_dataframe(\n",
    "        dataframe=train_df,\n",
    "        directory=None,\n",
    "        x_col=\"filename\",\n",
    "        y_col=\"label\",\n",
    "        subset=\"training\",\n",
    "        target_size=(img_width, img_height),\n",
    "        batch_size=batch_size,\n",
    "        class_mode='categorical',\n",
    "        shuffle=True)\n",
    "\n",
    "val_generator = datagen.flow_from_dataframe(\n",
    "        dataframe=val_df,\n",
    "        directory=None,\n",
    "        x_col=\"filename\",\n",
    "        y_col=\"label\",\n",
    "        target_size=(img_width, img_height),\n",
    "        batch_size=batch_size,\n",
    "        class_mode='categorical')\n",
    "\n",
    "test_datagen=ImageDataGenerator(rescale=1./255.)\n",
    "test_generator = test_datagen.flow_from_dataframe(\n",
    "        dataframe=test_df,\n",
    "        directory=None,\n",
    "        x_col=\"filename\",\n",
    "        y_col=\"label\",\n",
    "        target_size=(img_width, img_height),\n",
    "        batch_size=1,\n",
    "        class_mode='categorical')\n"
   ]
  },
  {
   "cell_type": "code",
   "execution_count": 9,
   "metadata": {},
   "outputs": [
    {
     "name": "stdout",
     "output_type": "stream",
     "text": [
      "Epoch 1/30\n",
      "WARNING:tensorflow:From /home/entilza/.local/lib/python3.7/site-packages/tensorflow/python/ops/math_grad.py:1250: add_dispatch_support.<locals>.wrapper (from tensorflow.python.ops.array_ops) is deprecated and will be removed in a future version.\n",
      "Instructions for updating:\n",
      "Use tf.where in 2.0, which has the same broadcast rule as np.where\n",
      "8/8 [==============================] - 37s 5s/step - loss: 1.4898 - acc: 0.2634 - val_loss: 1.4351 - val_acc: 0.1786\n",
      "Epoch 2/30\n",
      "8/8 [==============================] - 34s 4s/step - loss: 1.5038 - acc: 0.2946 - val_loss: 1.3692 - val_acc: 0.3214\n",
      "Epoch 3/30\n",
      "8/8 [==============================] - 34s 4s/step - loss: 1.4824 - acc: 0.2321 - val_loss: 1.3520 - val_acc: 0.4286\n",
      "Epoch 4/30\n",
      "8/8 [==============================] - 34s 4s/step - loss: 1.4648 - acc: 0.2589 - val_loss: 1.4054 - val_acc: 0.3571\n",
      "Epoch 5/30\n",
      "8/8 [==============================] - 34s 4s/step - loss: 1.5818 - acc: 0.2188 - val_loss: 1.3424 - val_acc: 0.3571\n",
      "Epoch 6/30\n",
      "8/8 [==============================] - 34s 4s/step - loss: 1.5306 - acc: 0.2500 - val_loss: 1.3974 - val_acc: 0.3214\n",
      "Epoch 7/30\n",
      "8/8 [==============================] - 34s 4s/step - loss: 1.4986 - acc: 0.2768 - val_loss: 1.4225 - val_acc: 0.3214\n",
      "Epoch 8/30\n",
      "8/8 [==============================] - 34s 4s/step - loss: 1.5463 - acc: 0.2366 - val_loss: 1.3594 - val_acc: 0.3214\n",
      "Epoch 9/30\n",
      "8/8 [==============================] - 34s 4s/step - loss: 1.5219 - acc: 0.2188 - val_loss: 1.3563 - val_acc: 0.3214\n",
      "Epoch 10/30\n",
      "8/8 [==============================] - 34s 4s/step - loss: 1.4946 - acc: 0.2143 - val_loss: 1.3673 - val_acc: 0.2857\n",
      "Epoch 11/30\n",
      "8/8 [==============================] - 34s 4s/step - loss: 1.5684 - acc: 0.2500 - val_loss: 1.3700 - val_acc: 0.3571\n",
      "Epoch 12/30\n",
      "8/8 [==============================] - 34s 4s/step - loss: 1.4014 - acc: 0.2857 - val_loss: 1.3387 - val_acc: 0.3929\n",
      "Epoch 13/30\n",
      "8/8 [==============================] - 34s 4s/step - loss: 1.4428 - acc: 0.3036 - val_loss: 1.3304 - val_acc: 0.3929\n",
      "Epoch 14/30\n",
      "8/8 [==============================] - 34s 4s/step - loss: 1.4559 - acc: 0.2411 - val_loss: 1.3528 - val_acc: 0.2500\n",
      "Epoch 15/30\n",
      "8/8 [==============================] - 34s 4s/step - loss: 1.4371 - acc: 0.2902 - val_loss: 1.3934 - val_acc: 0.2500\n",
      "Epoch 16/30\n",
      "8/8 [==============================] - 34s 4s/step - loss: 1.4270 - acc: 0.2500 - val_loss: 1.3623 - val_acc: 0.3214\n",
      "Epoch 17/30\n",
      "8/8 [==============================] - 34s 4s/step - loss: 1.4375 - acc: 0.3259 - val_loss: 1.3321 - val_acc: 0.3929\n",
      "Epoch 18/30\n",
      "8/8 [==============================] - 41s 5s/step - loss: 1.4380 - acc: 0.3304 - val_loss: 1.3281 - val_acc: 0.3214\n",
      "Epoch 19/30\n",
      "8/8 [==============================] - 40s 5s/step - loss: 1.4260 - acc: 0.2946 - val_loss: 1.3444 - val_acc: 0.2500\n",
      "Epoch 20/30\n",
      "8/8 [==============================] - 39s 5s/step - loss: 1.5023 - acc: 0.2679 - val_loss: 1.3712 - val_acc: 0.2857\n",
      "Epoch 21/30\n",
      "8/8 [==============================] - 36s 4s/step - loss: 1.3752 - acc: 0.3259 - val_loss: 1.3351 - val_acc: 0.3571\n",
      "Epoch 22/30\n",
      "8/8 [==============================] - 41s 5s/step - loss: 1.4626 - acc: 0.2812 - val_loss: 1.4092 - val_acc: 0.2143\n",
      "Epoch 23/30\n",
      "8/8 [==============================] - 37s 5s/step - loss: 1.4858 - acc: 0.2321 - val_loss: 1.3504 - val_acc: 0.3214\n",
      "Epoch 24/30\n",
      "8/8 [==============================] - 37s 5s/step - loss: 1.4652 - acc: 0.2723 - val_loss: 1.3564 - val_acc: 0.2500\n",
      "Epoch 25/30\n",
      "8/8 [==============================] - 35s 4s/step - loss: 1.4047 - acc: 0.3170 - val_loss: 1.3460 - val_acc: 0.3214\n",
      "Epoch 26/30\n",
      "8/8 [==============================] - 35s 4s/step - loss: 1.4655 - acc: 0.2723 - val_loss: 1.3303 - val_acc: 0.2500\n",
      "Epoch 27/30\n",
      "8/8 [==============================] - 35s 4s/step - loss: 1.4190 - acc: 0.2589 - val_loss: 1.3367 - val_acc: 0.2143\n",
      "Epoch 28/30\n",
      "8/8 [==============================] - 35s 4s/step - loss: 1.4393 - acc: 0.2411 - val_loss: 1.3182 - val_acc: 0.4286\n",
      "Epoch 29/30\n",
      "8/8 [==============================] - 35s 4s/step - loss: 1.4462 - acc: 0.2545 - val_loss: 1.3077 - val_acc: 0.3214\n",
      "Epoch 30/30\n",
      "8/8 [==============================] - 34s 4s/step - loss: 1.4147 - acc: 0.3036 - val_loss: 1.3629 - val_acc: 0.2857\n"
     ]
    }
   ],
   "source": [
    "history = model.fit_generator(\n",
    "    train_generator,\n",
    "    steps_per_epoch=nb_train_samples // batch_size,\n",
    "    epochs=epochs,\n",
    "    validation_data=val_generator,\n",
    "    validation_steps=nb_validation_samples // batch_size)\n"
   ]
  },
  {
   "cell_type": "code",
   "execution_count": 76,
   "metadata": {},
   "outputs": [
    {
     "name": "stdout",
     "output_type": "stream",
     "text": [
      "Model: \"sequential\"\n",
      "_________________________________________________________________\n",
      "Layer (type)                 Output Shape              Param #   \n",
      "=================================================================\n",
      "vgg16 (Model)                (None, 3, 3, 512)         14714688  \n",
      "_________________________________________________________________\n",
      "flatten (Flatten)            (None, 4608)              0         \n",
      "_________________________________________________________________\n",
      "dense (Dense)                (None, 256)               1179904   \n",
      "_________________________________________________________________\n",
      "activation (Activation)      (None, 256)               0         \n",
      "_________________________________________________________________\n",
      "dropout (Dropout)            (None, 256)               0         \n",
      "_________________________________________________________________\n",
      "dense_1 (Dense)              (None, 4)                 1028      \n",
      "_________________________________________________________________\n",
      "activation_1 (Activation)    (None, 4)                 0         \n",
      "=================================================================\n",
      "Total params: 15,895,620\n",
      "Trainable params: 15,635,460\n",
      "Non-trainable params: 260,160\n",
      "_________________________________________________________________\n"
     ]
    }
   ],
   "source": [
    "model.summary()"
   ]
  },
  {
   "cell_type": "code",
   "execution_count": 16,
   "metadata": {},
   "outputs": [
    {
     "data": {
      "image/png": "[encoded data removed]",
      "text/plain": [
       "<Figure size 432x288 with 1 Axes>"
      ]
     },
     "metadata": {
      "needs_background": "light"
     },
     "output_type": "display_data"
    }
   ],
   "source": [
    "plt.plot(history.history['acc'], \n",
    "         label='Доля верных ответов на обучающем наборе')\n",
    "plt.plot(history.history['val_acc'], \n",
    "         label='Доля верных ответов на проверочном наборе')\n",
    "plt.xlabel('Эпоха обучения')\n",
    "plt.ylabel('Доля верных ответов')\n",
    "plt.legend()\n",
    "plt.show()"
   ]
  },
  {
   "cell_type": "code",
   "execution_count": 12,
   "metadata": {},
   "outputs": [
    {
     "name": "stdout",
     "output_type": "stream",
     "text": [
      "Точность на тестовых данных: 42.86%\n"
     ]
    }
   ],
   "source": [
    "scores = model.evaluate_generator(test_generator, nb_test_samples)\n",
    "print(\"Точность на тестовых данных: %.2f%%\" % (scores[1]*100))"
   ]
  },
  {
   "cell_type": "code",
   "execution_count": 77,
   "metadata": {},
   "outputs": [],
   "source": [
    "vgg16_net.trainable = True\n",
    "trainable = False\n",
    "for layer in vgg16_net.layers:\n",
    "    if layer.name == 'block3_conv1':\n",
    "        trainable = True\n",
    "    layer.trainable = trainable"
   ]
  },
  {
   "cell_type": "code",
   "execution_count": 78,
   "metadata": {},
   "outputs": [],
   "source": [
    "from tensorflow.keras.callbacks import ModelCheckpoint\n",
    "\n",
    "# Сохраняем сеть на каждой эпохе\n",
    "# {epoch:02d} - номер эпохи\n",
    "# {val_acc:.4f} - значение доли верных значений на проверочном наборе данных\n",
    "callbacks = [ModelCheckpoint('saveModelWeightStep/{epoch:02d}-{acc:.4f}-{val_acc:.4f}.hdf5')]\n",
    "# Сохраняем только лучший вариант сети\n",
    "#callbacks = [ModelCheckpoint('save/mnist-dense.hdf5', monitor='val_loss', save_best_only=True)]"
   ]
  },
  {
   "cell_type": "code",
   "execution_count": 79,
   "metadata": {},
   "outputs": [],
   "source": [
    "model = keras.models.load_model('4classbigpic.h5')"
   ]
  },
  {
   "cell_type": "code",
   "execution_count": 80,
   "metadata": {},
   "outputs": [],
   "source": [
    "model.compile(loss='categorical_crossentropy',\n",
    "              optimizer=Adam(lr=0.00001),\n",
    "              metrics=['accuracy'])"
   ]
  },
  {
   "cell_type": "code",
   "execution_count": 81,
   "metadata": {},
   "outputs": [],
   "source": [
    "class_weights_dict = {0:1 , 1:1, 2:1.26, 3:2.7}"
   ]
  },
  {
   "cell_type": "code",
   "execution_count": 82,
   "metadata": {},
   "outputs": [
    {
     "name": "stdout",
     "output_type": "stream",
     "text": [
      "Epoch 1/30\n",
      "23/23 [==============================] - 259s 11s/step - loss: 0.2693 - acc: 0.9411 - val_loss: 0.3130 - val_acc: 0.9107\n",
      "Epoch 2/30\n",
      "23/23 [==============================] - 257s 11s/step - loss: 0.2299 - acc: 0.9459 - val_loss: 0.0986 - val_acc: 0.9643\n",
      "Epoch 3/30\n",
      "23/23 [==============================] - 247s 11s/step - loss: 0.1912 - acc: 0.9538 - val_loss: 0.2400 - val_acc: 0.9286\n",
      "Epoch 4/30\n",
      "23/23 [==============================] - 248s 11s/step - loss: 0.1512 - acc: 0.9618 - val_loss: 0.5786 - val_acc: 0.8393\n",
      "Epoch 5/30\n",
      "23/23 [==============================] - 255s 11s/step - loss: 0.3249 - acc: 0.9255 - val_loss: 0.2528 - val_acc: 0.9286\n",
      "Epoch 6/30\n",
      "23/23 [==============================] - 243s 11s/step - loss: 0.2559 - acc: 0.9412 - val_loss: 0.3012 - val_acc: 0.9107\n",
      "Epoch 7/30\n",
      "23/23 [==============================] - 248s 11s/step - loss: 0.3422 - acc: 0.9283 - val_loss: 0.1483 - val_acc: 0.9643\n",
      "Epoch 8/30\n",
      "23/23 [==============================] - 255s 11s/step - loss: 0.1831 - acc: 0.9534 - val_loss: 0.3815 - val_acc: 0.8750\n",
      "Epoch 9/30\n",
      "23/23 [==============================] - 247s 11s/step - loss: 0.2642 - acc: 0.9330 - val_loss: 0.2351 - val_acc: 0.9464\n",
      "Epoch 10/30\n",
      "23/23 [==============================] - 259s 11s/step - loss: 0.1935 - acc: 0.9550 - val_loss: 0.2068 - val_acc: 0.9464\n",
      "Epoch 11/30\n",
      "23/23 [==============================] - 228s 10s/step - loss: 0.2894 - acc: 0.9330 - val_loss: 0.2024 - val_acc: 0.9643\n",
      "Epoch 12/30\n",
      "23/23 [==============================] - 234s 10s/step - loss: 0.3358 - acc: 0.9379 - val_loss: 0.1587 - val_acc: 0.9464\n",
      "Epoch 13/30\n",
      "23/23 [==============================] - 229s 10s/step - loss: 0.2139 - acc: 0.9506 - val_loss: 0.4019 - val_acc: 0.9286\n",
      "Epoch 14/30\n",
      "23/23 [==============================] - 230s 10s/step - loss: 0.1564 - acc: 0.9554 - val_loss: 0.1959 - val_acc: 0.9464\n",
      "Epoch 15/30\n",
      "23/23 [==============================] - 230s 10s/step - loss: 0.3618 - acc: 0.9220 - val_loss: 0.3910 - val_acc: 0.8750\n",
      "Epoch 16/30\n",
      "23/23 [==============================] - 231s 10s/step - loss: 0.3804 - acc: 0.9411 - val_loss: 0.3665 - val_acc: 0.8929\n",
      "Epoch 17/30\n",
      "23/23 [==============================] - 231s 10s/step - loss: 0.2543 - acc: 0.9363 - val_loss: 0.2376 - val_acc: 0.8929\n",
      "Epoch 18/30\n",
      "23/23 [==============================] - 232s 10s/step - loss: 0.2882 - acc: 0.9283 - val_loss: 0.4294 - val_acc: 0.8750\n",
      "Epoch 19/30\n",
      "23/23 [==============================] - 243s 11s/step - loss: 0.3080 - acc: 0.9346 - val_loss: 0.3213 - val_acc: 0.9286\n",
      "Epoch 20/30\n",
      "23/23 [==============================] - 286s 12s/step - loss: 0.2291 - acc: 0.9457 - val_loss: 0.3054 - val_acc: 0.9286\n",
      "Epoch 21/30\n",
      "23/23 [==============================] - 268s 12s/step - loss: 0.3104 - acc: 0.9236 - val_loss: 0.0787 - val_acc: 1.0000\n",
      "Epoch 22/30\n",
      "23/23 [==============================] - 273s 12s/step - loss: 0.2246 - acc: 0.9554 - val_loss: 0.2273 - val_acc: 0.9107\n",
      "Epoch 23/30\n",
      "23/23 [==============================] - 237s 10s/step - loss: 0.4599 - acc: 0.9134 - val_loss: 0.3235 - val_acc: 0.8929\n",
      "Epoch 24/30\n",
      "23/23 [==============================] - 281s 12s/step - loss: 0.2133 - acc: 0.9457 - val_loss: 0.0747 - val_acc: 0.9821\n",
      "Epoch 25/30\n",
      "23/23 [==============================] - 270s 12s/step - loss: 0.2797 - acc: 0.9443 - val_loss: 0.6450 - val_acc: 0.8571\n",
      "Epoch 26/30\n",
      "23/23 [==============================] - 285s 12s/step - loss: 0.3614 - acc: 0.9124 - val_loss: 0.3482 - val_acc: 0.8393\n",
      "Epoch 27/30\n",
      "23/23 [==============================] - 271s 12s/step - loss: 0.2499 - acc: 0.9395 - val_loss: 0.3604 - val_acc: 0.9464\n",
      "Epoch 28/30\n",
      "23/23 [==============================] - 277s 12s/step - loss: 0.2582 - acc: 0.9443 - val_loss: 0.1944 - val_acc: 0.9464\n",
      "Epoch 29/30\n",
      "23/23 [==============================] - 303s 13s/step - loss: 0.3036 - acc: 0.9411 - val_loss: 0.5052 - val_acc: 0.8393\n",
      "Epoch 30/30\n",
      "23/23 [==============================] - 257s 11s/step - loss: 0.2223 - acc: 0.9554 - val_loss: 0.1602 - val_acc: 0.9643\n"
     ]
    }
   ],
   "source": [
    "history = model.fit_generator(\n",
    "    train_generator,\n",
    "    steps_per_epoch=nb_train_samples // batch_size,\n",
    "    epochs=30,\n",
    "    class_weight = class_weights_dict,\n",
    "    validation_data=val_generator,\n",
    "    validation_steps=nb_validation_samples // batch_size, \n",
    "    callbacks=callbacks)"
   ]
  },
  {
   "cell_type": "code",
   "execution_count": 83,
   "metadata": {},
   "outputs": [
    {
     "name": "stdout",
     "output_type": "stream",
     "text": [
      "Точность на тестовых данных: 95.18%\n"
     ]
    }
   ],
   "source": [
    "scores = model.evaluate_generator(test_generator, nb_test_samples)\n",
    "print(\"Точность на тестовых данных: %.2f%%\" % (scores[1]*100))"
   ]
  },
  {
   "cell_type": "code",
   "execution_count": 61,
   "metadata": {},
   "outputs": [],
   "source": [
    "#model.save('4classcopy.h5')"
   ]
  },
  {
   "cell_type": "code",
   "execution_count": null,
   "metadata": {},
   "outputs": [
    {
     "name": "stdout",
     "output_type": "stream",
     "text": [
      "./saveModelWeightStep/30-0.9554-0.9643.hdf5\n",
      "0\n",
      "Точность на тестовых данных: 95.18%\n",
      "./saveModelWeightStep/04-0.9379-0.9821.hdf5\n",
      "1\n",
      "Точность на тестовых данных: 93.98%\n",
      "./saveModelWeightStep/27-0.9395-0.9464.hdf5\n",
      "2\n",
      "Точность на тестовых данных: 93.98%\n",
      "./saveModelWeightStep/10-0.9522-0.9464.hdf5\n",
      "3\n",
      "Точность на тестовых данных: 96.39%\n",
      "./saveModelWeightStep/07-0.9554-0.9107.hdf5\n",
      "4\n",
      "Точность на тестовых данных: 93.98%\n",
      "./saveModelWeightStep/06-0.9045-0.8214.hdf5\n",
      "5\n",
      "Точность на тестовых данных: 89.16%\n",
      "./saveModelWeightStep/16-0.9411-0.8929.hdf5\n",
      "6\n",
      "Точность на тестовых данных: 85.54%\n",
      "./saveModelWeightStep/07-0.8742-0.8214.hdf5\n",
      "7\n",
      "Точность на тестовых данных: 91.57%\n",
      "./saveModelWeightStep/04-0.9624-0.9464.hdf5\n",
      "8\n",
      "Точность на тестовых данных: 93.98%\n",
      "./saveModelWeightStep/08-0.9172-0.8393.hdf5\n",
      "9\n",
      "Точность на тестовых данных: 89.16%\n",
      "./saveModelWeightStep/08-0.9490-0.9643.hdf5\n",
      "10\n",
      "Точность на тестовых данных: 96.39%\n",
      "./saveModelWeightStep/12-0.9379-0.9464.hdf5\n",
      "11\n",
      "Точность на тестовых данных: 93.98%\n",
      "./saveModelWeightStep/08-0.9534-0.8750.hdf5\n",
      "12\n",
      "Точность на тестовых данных: 93.98%\n",
      "./saveModelWeightStep/24-0.9457-0.9821.hdf5\n",
      "13\n",
      "Точность на тестовых данных: 96.39%\n",
      "./saveModelWeightStep/09-0.9330-0.9464.hdf5\n",
      "14\n",
      "Точность на тестовых данных: 97.59%\n",
      "./saveModelWeightStep/10-0.9550-0.9464.hdf5\n",
      "15\n",
      "Точность на тестовых данных: 92.77%\n",
      "./saveModelWeightStep/18-0.9283-0.8750.hdf5\n",
      "16\n",
      "Точность на тестовых данных: 87.95%\n",
      "./saveModelWeightStep/10-0.9363-0.9643.hdf5\n",
      "17\n",
      "Точность на тестовых данных: 91.57%\n",
      "./saveModelWeightStep/06-0.9412-0.9107.hdf5\n",
      "18\n",
      "Точность на тестовых данных: 91.57%\n",
      "./saveModelWeightStep/06-0.9410-0.9107.hdf5\n",
      "19\n",
      "Точность на тестовых данных: 90.36%\n",
      "./saveModelWeightStep/09-0.9236-0.9821.hdf5\n",
      "20\n",
      "Точность на тестовых данных: 93.98%\n",
      "./saveModelWeightStep/11-0.9330-0.9643.hdf5\n",
      "21\n",
      "Точность на тестовых данных: 95.18%\n",
      "./saveModelWeightStep/05-0.9522-0.9643.hdf5\n",
      "22\n",
      "Точность на тестовых данных: 92.77%\n",
      "./saveModelWeightStep/17-0.9363-0.8929.hdf5\n",
      "23\n",
      "Точность на тестовых данных: 92.77%\n",
      "./saveModelWeightStep/10-0.8913-0.8750.hdf5\n",
      "24\n",
      "Точность на тестовых данных: 96.39%\n",
      "./saveModelWeightStep/01-0.9411-0.9107.hdf5\n",
      "25\n",
      "Точность на тестовых данных: 95.18%\n",
      "./saveModelWeightStep/05-0.9255-0.9286.hdf5\n",
      "26\n",
      "Точность на тестовых данных: 93.98%\n",
      "./saveModelWeightStep/05-0.9475-0.8214.hdf5\n",
      "27\n",
      "Точность на тестовых данных: 86.75%\n",
      "./saveModelWeightStep/02-0.9124-0.9286.hdf5\n",
      "28\n",
      "Точность на тестовых данных: 92.77%\n",
      "./saveModelWeightStep/25-0.9443-0.8571.hdf5\n"
     ]
    }
   ],
   "source": [
    "spisokModels = pandas.read_csv(\"modelslist.csv\")\n",
    "for m in range(len(spisokModels)):\n",
    "    print(spisokModels.iloc[m,0])\n",
    "    model = keras.models.load_model(spisokModels.iloc[m,0])\n",
    "    scores = model.evaluate_generator(test_generator, nb_test_samples)\n",
    "    #print(m)\n",
    "    print(\"Точность на тестовых данных: %.2f%%\" % (scores[1]*100))"
   ]
  },
  {
   "cell_type": "code",
   "execution_count": 84,
   "metadata": {},
   "outputs": [],
   "source": [
    "#model.save('4classbigpic.h5')"
   ]
  },
  {
   "cell_type": "code",
   "execution_count": 43,
   "metadata": {},
   "outputs": [],
   "source": [
    "#print(\"Сохраняем сеть\")\n",
    "# Сохраняем сеть для последующего использования\n",
    "# Генерируем описание модели в формате json\n",
    "#model_json = model.to_json()\n",
    "#json_file = open(\"4class.json\", \"w\")\n",
    "# Записываем архитектуру сети в файл\n",
    "#json_file.write(model_json)\n",
    "#json_file.close()\n",
    "# Записываем данные о весах в файл\n",
    "#model.save_weights(\"mnist_model.h5\")\n",
    "#print(\"Сохранение сети завершено\")"
   ]
  },
  {
   "cell_type": "code",
   "execution_count": 20,
   "metadata": {},
   "outputs": [],
   "source": [
    "#model = keras.models.load_model('75x75.h5')"
   ]
  },
  {
   "cell_type": "code",
   "execution_count": 36,
   "metadata": {},
   "outputs": [
    {
     "name": "stdout",
     "output_type": "stream",
     "text": [
      "/home/entilza/Chris/NN/test/cruassan/cruassan.63.jpg\n",
      "Номер класса: 0\n",
      "Название класса: круассан\n",
      "/home/entilza/Chris/NN/test/cruassan/cruassan.64.jpg\n",
      "Номер класса: 0\n",
      "Название класса: круассан\n",
      "/home/entilza/Chris/NN/test/cruassan/cruassan.65.jpg\n",
      "Номер класса: 0\n",
      "Название класса: круассан\n",
      "/home/entilza/Chris/NN/test/cruassan/cruassan.66.jpg\n",
      "Номер класса: 0\n",
      "Название класса: круассан\n",
      "/home/entilza/Chris/NN/test/cruassan/cruassan.67.jpg\n",
      "Номер класса: 0\n",
      "Название класса: круассан\n",
      "/home/entilza/Chris/NN/test/cruassan/cruassan.68.jpg\n",
      "Номер класса: 0\n",
      "Название класса: круассан\n",
      "/home/entilza/Chris/NN/test/cruassan/cruassan.69.jpg\n",
      "Номер класса: 0\n",
      "Название класса: круассан\n",
      "/home/entilza/Chris/NN/test/polki/polki.63.jpg\n",
      "Номер класса: 1\n",
      "Название класса: полки\n",
      "/home/entilza/Chris/NN/test/polki/polki.64.jpg\n",
      "Номер класса: 1\n",
      "Название класса: полки\n",
      "/home/entilza/Chris/NN/test/polki/polki.65.jpg\n",
      "Номер класса: 1\n",
      "Название класса: полки\n",
      "/home/entilza/Chris/NN/test/polki/polki.66.jpg\n",
      "Номер класса: 1\n",
      "Название класса: полки\n",
      "/home/entilza/Chris/NN/test/polki/polki.67.jpg\n",
      "Номер класса: 1\n",
      "Название класса: полки\n",
      "/home/entilza/Chris/NN/test/polki/polki.68.jpg\n",
      "Номер класса: 1\n",
      "Название класса: полки\n",
      "/home/entilza/Chris/NN/test/polki/polki.69.jpg\n",
      "Номер класса: 1\n",
      "Название класса: полки\n",
      "/home/entilza/Chris/NN/test/ponchik/ponchik.63.jpg\n",
      "Номер класса: 2\n",
      "Название класса: пончик\n",
      "/home/entilza/Chris/NN/test/ponchik/ponchik.64.jpg\n",
      "Номер класса: 2\n",
      "Название класса: пончик\n",
      "/home/entilza/Chris/NN/test/ponchik/ponchik.65.jpg\n",
      "Номер класса: 2\n",
      "Название класса: пончик\n",
      "/home/entilza/Chris/NN/test/ponchik/ponchik.66.jpg\n",
      "Номер класса: 2\n",
      "Название класса: пончик\n",
      "/home/entilza/Chris/NN/test/ponchik/ponchik.67.jpg\n",
      "Номер класса: 1\n",
      "Название класса: полки\n",
      "/home/entilza/Chris/NN/test/ponchik/ponchik.68.jpg\n",
      "Номер класса: 2\n",
      "Название класса: пончик\n",
      "/home/entilza/Chris/NN/test/ponchik/ponchik.69.jpg\n",
      "Номер класса: 2\n",
      "Название класса: пончик\n",
      "/home/entilza/Chris/NN/test/zavitok/zavitok.63.jpg\n",
      "Номер класса: 3\n",
      "Название класса: завиток\n",
      "/home/entilza/Chris/NN/test/zavitok/zavitok.64.jpg\n",
      "Номер класса: 3\n",
      "Название класса: завиток\n",
      "/home/entilza/Chris/NN/test/zavitok/zavitok.65.jpg\n",
      "Номер класса: 3\n",
      "Название класса: завиток\n",
      "/home/entilza/Chris/NN/test/zavitok/zavitok.66.jpg\n",
      "Номер класса: 3\n",
      "Название класса: завиток\n",
      "/home/entilza/Chris/NN/test/zavitok/zavitok.67.jpg\n",
      "Номер класса: 3\n",
      "Название класса: завиток\n",
      "/home/entilza/Chris/NN/test/zavitok/zavitok.68.jpg\n",
      "Номер класса: 3\n",
      "Название класса: завиток\n",
      "/home/entilza/Chris/NN/test/zavitok/zavitok.69.jpg\n",
      "Номер класса: 3\n",
      "Название класса: завиток\n"
     ]
    }
   ],
   "source": [
    "# создаем csv-файл со списком тестовых картинок и отображаем результаты теста по каждой\n",
    "spisoktest = pandas.read_csv(\"test.csv\")\n",
    "for k in range(len(spisoktest)):\n",
    "    print(spisoktest.iloc[k,0])\n",
    "    im = spisoktest.iloc[k,0]\n",
    "    img = image.load_img(im, target_size=(img_width, img_height))\n",
    "    # Преобразуем картинку в массив\n",
    "    x = image.img_to_array(img)\n",
    "    x = x.reshape(1, x.shape[0],x.shape[1],x.shape[2])\n",
    "    # Нормализуем изображение\n",
    "    x /= 255\n",
    "    prediction = model.predict(x)\n",
    "    prediction\n",
    "    prediction = np.argmax(prediction)\n",
    "    print(\"Номер класса:\", prediction)\n",
    "    print(\"Название класса:\", classes[prediction])\n",
    "        "
   ]
  },
  {
   "cell_type": "code",
   "execution_count": null,
   "metadata": {},
   "outputs": [],
   "source": []
  }
 ],
 "metadata": {
  "kernelspec": {
   "display_name": "Python 3",
   "language": "python",
   "name": "python3"
  },
  "language_info": {
   "codemirror_mode": {
    "name": "ipython",
    "version": 3
   },
   "file_extension": ".py",
   "mimetype": "text/x-python",
   "name": "python",
   "nbconvert_exporter": "python",
   "pygments_lexer": "ipython3",
   "version": "3.7.3"
  }
 },
 "nbformat": 4,
 "nbformat_minor": 2
}
