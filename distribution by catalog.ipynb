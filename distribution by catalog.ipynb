{
 "cells": [
  {
   "cell_type": "code",
   "execution_count": 1,
   "metadata": {},
   "outputs": [],
   "source": [
    "import shutil\n",
    "import os"
   ]
  },
  {
   "cell_type": "code",
   "execution_count": 23,
   "metadata": {},
   "outputs": [],
   "source": [
    "# приводим расширение файлов к одному виду в Терминале rename 's/.jpeg/.jpg/' *.jpeg\n",
    "# Каталог с набором данных\n",
    "data_dir = 'bigpic'\n",
    "# Каталог с данными для обучения\n",
    "train_dir = './bigpic/train'\n",
    "# Каталог с данными для проверки\n",
    "val_dir = './bigpic/val'\n",
    "# Каталог с данными для тестирования\n",
    "test_dir = './bigpic/test'\n",
    "# Часть набора данных для тестирования\n",
    "test_data_portion = 0.10\n",
    "# Часть набора данных для проверки\n",
    "val_data_portion = 0.10\n",
    "# Количество элементов данных в одном классе\n",
    "nb_images = 96"
   ]
  },
  {
   "cell_type": "code",
   "execution_count": 14,
   "metadata": {},
   "outputs": [],
   "source": [
    "def create_directory(dir_name):\n",
    "    if os.path.exists(dir_name):\n",
    "        shutil.rmtree(dir_name)\n",
    "    os.makedirs(dir_name)\n",
    "    os.makedirs(os.path.join(dir_name, \"ponchik\"))\n",
    "    os.makedirs(os.path.join(dir_name, \"zavitok\"))\n",
    "    os.makedirs(os.path.join(dir_name, \"cruassan\"))\n",
    "    os.makedirs(os.path.join(dir_name, \"polki\"))"
   ]
  },
  {
   "cell_type": "code",
   "execution_count": 15,
   "metadata": {},
   "outputs": [],
   "source": [
    "create_directory(train_dir)\n",
    "create_directory(val_dir)\n",
    "create_directory(test_dir)"
   ]
  },
  {
   "cell_type": "code",
   "execution_count": 24,
   "metadata": {},
   "outputs": [],
   "source": [
    "def copy_images(start_index, end_index, source_dir, dest_dir):\n",
    "    for i in range(start_index, end_index):\n",
    "        #shutil.copy2(os.path.join(source_dir, \"ponchik.\" + str(i) + \".jpg\"), \n",
    "        #            os.path.join(dest_dir, \"ponchik\"))\n",
    "        shutil.copy2(os.path.join(source_dir, \"zavitok.\" + str(i) + \".jpg\"), \n",
    "                   os.path.join(dest_dir, \"zavitok\"))\n",
    "        #shutil.copy2(os.path.join(source_dir, \"cruassan.\" + str(i) + \".jpg\"), \n",
    "        #           os.path.join(dest_dir, \"cruassan\"))\n",
    "        #shutil.copy2(os.path.join(source_dir, \"polki.\" + str(i) + \".jpg\"), \n",
    "        #           os.path.join(dest_dir, \"polki\"))"
   ]
  },
  {
   "cell_type": "code",
   "execution_count": 25,
   "metadata": {},
   "outputs": [
    {
     "name": "stdout",
     "output_type": "stream",
     "text": [
      "76\n",
      "86\n"
     ]
    }
   ],
   "source": [
    "start_val_data_idx = int(nb_images * (1 - val_data_portion - test_data_portion))\n",
    "start_test_data_idx = int(nb_images * (1 - test_data_portion))\n",
    "print(start_val_data_idx)\n",
    "print(start_test_data_idx)"
   ]
  },
  {
   "cell_type": "code",
   "execution_count": 26,
   "metadata": {},
   "outputs": [],
   "source": [
    "copy_images(0, start_val_data_idx, data_dir, train_dir)\n",
    "copy_images(start_val_data_idx, start_test_data_idx, data_dir, val_dir)\n",
    "copy_images(start_test_data_idx, nb_images, data_dir, test_dir)"
   ]
  },
  {
   "cell_type": "code",
   "execution_count": null,
   "metadata": {},
   "outputs": [],
   "source": []
  },
  {
   "cell_type": "code",
   "execution_count": null,
   "metadata": {},
   "outputs": [],
   "source": []
  }
 ],
 "metadata": {
  "kernelspec": {
   "display_name": "Python 3",
   "language": "python",
   "name": "python3"
  },
  "language_info": {
   "codemirror_mode": {
    "name": "ipython",
    "version": 3
   },
   "file_extension": ".py",
   "mimetype": "text/x-python",
   "name": "python",
   "nbconvert_exporter": "python",
   "pygments_lexer": "ipython3",
   "version": "3.7.3"
  }
 },
 "nbformat": 4,
 "nbformat_minor": 2
}
