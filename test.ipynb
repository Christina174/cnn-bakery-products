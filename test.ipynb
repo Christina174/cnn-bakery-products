{
 "cells": [
  {
   "cell_type": "code",
   "execution_count": 83,
   "metadata": {},
   "outputs": [],
   "source": [
    "from tensorflow.python import keras\n",
    "from tensorflow.python.keras.preprocessing.image import ImageDataGenerator\n",
    "from tensorflow.keras.preprocessing import image\n",
    "from tensorflow.python.keras.optimizers import Adam\n",
    "import numpy as np\n",
    "import pandas"
   ]
  },
  {
   "cell_type": "code",
   "execution_count": 78,
   "metadata": {},
   "outputs": [],
   "source": [
    "# Каталог с данными для тестирования\n",
    "testDir = './dataset/test'\n",
    "# Размеры изображения\n",
    "img_width, img_height = 100, 100\n",
    "input_shape = (img_width, img_height, 3)\n",
    "# Количество изображений для обучения\n",
    "nb_train_samples = 656\n",
    "# Количество изображений для проверки\n",
    "nb_validation_samples = 83\n",
    "# Количество изображений для тестирования\n",
    "nb_test_samples = 83"
   ]
  },
  {
   "cell_type": "code",
   "execution_count": 79,
   "metadata": {},
   "outputs": [],
   "source": [
    "classes = ['cruassan','polki','ponchik', 'zavitok',]"
   ]
  },
  {
   "cell_type": "code",
   "execution_count": 80,
   "metadata": {},
   "outputs": [],
   "source": [
    "# https://keras.io/preprocessing/image/\n",
    "datagen = ImageDataGenerator(rescale=1./255., \n",
    "                             rotation_range=45,\n",
    "                             width_shift_range=0.2,\n",
    "                             height_shift_range=0.2,\n",
    "                             zoom_range=0.2,\n",
    "                             shear_range=0.2,\n",
    "                             brightness_range=[0.5, 1.0],\n",
    "                             channel_shift_range=0.2,\n",
    "                             horizontal_flip=True,\n",
    "                             vertical_flip=True,\n",
    "                             fill_mode=\"nearest\"\n",
    "                            )"
   ]
  },
  {
   "cell_type": "code",
   "execution_count": 81,
   "metadata": {},
   "outputs": [
    {
     "name": "stdout",
     "output_type": "stream",
     "text": [
      "Found 83 validated image filenames belonging to 4 classes.\n"
     ]
    }
   ],
   "source": [
    "test_df = pandas.read_csv(\"./dataset/test.csv\")\n",
    "\n",
    "# https://keras.io/preprocessing/image/#flow_from_dataframe\n",
    "\n",
    "test_datagen=ImageDataGenerator(rescale=1./255.)\n",
    "test_generator = test_datagen.flow_from_dataframe(\n",
    "        dataframe=test_df,\n",
    "        directory=None,\n",
    "        x_col=\"filename\",\n",
    "        y_col=\"label\",\n",
    "        target_size=(img_width, img_height),\n",
    "        batch_size=1,\n",
    "        class_mode='categorical')\n"
   ]
  },
  {
   "cell_type": "code",
   "execution_count": 84,
   "metadata": {},
   "outputs": [],
   "source": [
    "# загрузка предварительно обученной модели\n",
    "with open('modelWork.json') as json_file:\n",
    "    json_config = json_file.read()\n",
    "model = keras.models.model_from_json(json_config)\n",
    "model.load_weights('modelWork.h5')\n",
    "#добавляем компиляцию, потому что она необходима для корректной работы после загрузки весов\n",
    "model.compile(loss='categorical_crossentropy',\n",
    "              optimizer=Adam(lr=0.001),\n",
    "              metrics=['accuracy'])"
   ]
  },
  {
   "cell_type": "code",
   "execution_count": 85,
   "metadata": {},
   "outputs": [
    {
     "name": "stdout",
     "output_type": "stream",
     "text": [
      "Model: \"sequential\"\n",
      "_________________________________________________________________\n",
      "Layer (type)                 Output Shape              Param #   \n",
      "=================================================================\n",
      "vgg16 (Model)                (None, 3, 3, 512)         14714688  \n",
      "_________________________________________________________________\n",
      "flatten (Flatten)            (None, 4608)              0         \n",
      "_________________________________________________________________\n",
      "dense (Dense)                (None, 256)               1179904   \n",
      "_________________________________________________________________\n",
      "activation (Activation)      (None, 256)               0         \n",
      "_________________________________________________________________\n",
      "dropout (Dropout)            (None, 256)               0         \n",
      "_________________________________________________________________\n",
      "dense_1 (Dense)              (None, 4)                 1028      \n",
      "_________________________________________________________________\n",
      "activation_1 (Activation)    (None, 4)                 0         \n",
      "=================================================================\n",
      "Total params: 15,895,620\n",
      "Trainable params: 15,635,460\n",
      "Non-trainable params: 260,160\n",
      "_________________________________________________________________\n"
     ]
    }
   ],
   "source": [
    "model.summary()\n",
    "#model.layers"
   ]
  },
  {
   "cell_type": "code",
   "execution_count": 86,
   "metadata": {},
   "outputs": [
    {
     "name": "stdout",
     "output_type": "stream",
     "text": [
      "Точность на тестовых данных: 96.39%\n"
     ]
    }
   ],
   "source": [
    "scores = model.evaluate_generator(test_generator, nb_test_samples)\n",
    "print(\"Точность на тестовых данных: %.2f%%\" % (scores[1]*100))"
   ]
  },
  {
   "cell_type": "code",
   "execution_count": 15,
   "metadata": {
    "scrolled": false
   },
   "outputs": [
    {
     "name": "stdout",
     "output_type": "stream",
     "text": [
      "01-0.9443-0.8929.hdf5\n",
      "Точность на тестовых данных: 95.18%\n",
      "02-0.9697-0.9643.hdf5\n",
      "Точность на тестовых данных: 96.39%\n",
      "03-0.9697-0.8750.hdf5\n",
      "Точность на тестовых данных: 95.18%\n",
      "04-0.9777-0.9107.hdf5\n",
      "Точность на тестовых данных: 95.18%\n",
      "05-0.9503-0.9286.hdf5\n",
      "Точность на тестовых данных: 96.39%\n"
     ]
    }
   ],
   "source": [
    "# На каждой эпохе обучения модели происходило сохранение весов. \n",
    "# В загружаемом csv-файле представлен список сохраненных весов модели. \n",
    "# Каждый вариант проверяем на тестовом наборе.\n",
    "spisokModels = pandas.read_csv(\"./SavedModel/modelslist.csv\", header = None)\n",
    "for m in range(len(spisokModels)):\n",
    "    modelName = spisokModels.iloc[m,0].split('/')\n",
    "    print(modelName[-1])\n",
    "    model = keras.models.load_model(spisokModels.iloc[m,0])\n",
    "    scores = model.evaluate_generator(test_generator, nb_test_samples)\n",
    "    print(\"Точность на тестовых данных: %.2f%%\" % (scores[1]*100))"
   ]
  },
  {
   "cell_type": "code",
   "execution_count": 87,
   "metadata": {},
   "outputs": [
    {
     "name": "stdout",
     "output_type": "stream",
     "text": [
      "0  |  cruassan.234.jpg  |  Название класса распознанного моделью: zavitok\n",
      "1  |  cruassan.235.jpg  |  Название класса распознанного моделью: cruassan\n",
      "2  |  cruassan.236.jpg  |  Название класса распознанного моделью: cruassan\n",
      "3  |  cruassan.237.jpg  |  Название класса распознанного моделью: cruassan\n",
      "4  |  cruassan.238.jpg  |  Название класса распознанного моделью: zavitok\n",
      "5  |  cruassan.239.jpg  |  Название класса распознанного моделью: cruassan\n",
      "6  |  cruassan.240.jpg  |  Название класса распознанного моделью: cruassan\n",
      "7  |  cruassan.241.jpg  |  Название класса распознанного моделью: cruassan\n",
      "8  |  cruassan.242.jpg  |  Название класса распознанного моделью: cruassan\n",
      "9  |  cruassan.243.jpg  |  Название класса распознанного моделью: cruassan\n",
      "10  |  cruassan.244.jpg  |  Название класса распознанного моделью: cruassan\n",
      "11  |  cruassan.245.jpg  |  Название класса распознанного моделью: cruassan\n",
      "12  |  cruassan.246.jpg  |  Название класса распознанного моделью: cruassan\n",
      "13  |  cruassan.247.jpg  |  Название класса распознанного моделью: cruassan\n",
      "14  |  cruassan.248.jpg  |  Название класса распознанного моделью: cruassan\n",
      "15  |  cruassan.249.jpg  |  Название класса распознанного моделью: cruassan\n",
      "16  |  cruassan.250.jpg  |  Название класса распознанного моделью: cruassan\n",
      "17  |  cruassan.251.jpg  |  Название класса распознанного моделью: cruassan\n",
      "18  |  cruassan.252.jpg  |  Название класса распознанного моделью: cruassan\n",
      "19  |  cruassan.253.jpg  |  Название класса распознанного моделью: cruassan\n",
      "20  |  cruassan.254.jpg  |  Название класса распознанного моделью: cruassan\n",
      "21  |  cruassan.255.jpg  |  Название класса распознанного моделью: cruassan\n",
      "22  |  cruassan.256.jpg  |  Название класса распознанного моделью: cruassan\n",
      "23  |  cruassan.257.jpg  |  Название класса распознанного моделью: cruassan\n",
      "24  |  cruassan.258.jpg  |  Название класса распознанного моделью: cruassan\n",
      "25  |  cruassan.259.jpg  |  Название класса распознанного моделью: cruassan\n",
      "26  |  polki.234.jpg  |  Название класса распознанного моделью: polki\n",
      "27  |  polki.235.jpg  |  Название класса распознанного моделью: polki\n",
      "28  |  polki.236.jpg  |  Название класса распознанного моделью: polki\n",
      "29  |  polki.237.jpg  |  Название класса распознанного моделью: polki\n",
      "30  |  polki.238.jpg  |  Название класса распознанного моделью: polki\n",
      "31  |  polki.239.jpg  |  Название класса распознанного моделью: polki\n",
      "32  |  polki.240.jpg  |  Название класса распознанного моделью: polki\n",
      "33  |  polki.241.jpg  |  Название класса распознанного моделью: polki\n",
      "34  |  polki.242.jpg  |  Название класса распознанного моделью: polki\n",
      "35  |  polki.243.jpg  |  Название класса распознанного моделью: polki\n",
      "36  |  polki.244.jpg  |  Название класса распознанного моделью: polki\n",
      "37  |  polki.245.jpg  |  Название класса распознанного моделью: polki\n",
      "38  |  polki.246.jpg  |  Название класса распознанного моделью: polki\n",
      "39  |  polki.247.jpg  |  Название класса распознанного моделью: polki\n",
      "40  |  polki.248.jpg  |  Название класса распознанного моделью: polki\n",
      "41  |  polki.249.jpg  |  Название класса распознанного моделью: polki\n",
      "42  |  polki.250.jpg  |  Название класса распознанного моделью: polki\n",
      "43  |  polki.251.jpg  |  Название класса распознанного моделью: polki\n",
      "44  |  polki.252.jpg  |  Название класса распознанного моделью: polki\n",
      "45  |  polki.253.jpg  |  Название класса распознанного моделью: polki\n",
      "46  |  polki.254.jpg  |  Название класса распознанного моделью: polki\n",
      "47  |  polki.255.jpg  |  Название класса распознанного моделью: polki\n",
      "48  |  polki.256.jpg  |  Название класса распознанного моделью: polki\n",
      "49  |  polki.257.jpg  |  Название класса распознанного моделью: polki\n",
      "50  |  polki.258.jpg  |  Название класса распознанного моделью: polki\n",
      "51  |  polki.259.jpg  |  Название класса распознанного моделью: polki\n",
      "52  |  ponchik.185.jpg  |  Название класса распознанного моделью: ponchik\n",
      "53  |  ponchik.186.jpg  |  Название класса распознанного моделью: ponchik\n",
      "54  |  ponchik.187.jpg  |  Название класса распознанного моделью: ponchik\n",
      "55  |  ponchik.188.jpg  |  Название класса распознанного моделью: ponchik\n",
      "56  |  ponchik.189.jpg  |  Название класса распознанного моделью: ponchik\n",
      "57  |  ponchik.190.jpg  |  Название класса распознанного моделью: ponchik\n",
      "58  |  ponchik.191.jpg  |  Название класса распознанного моделью: ponchik\n",
      "59  |  ponchik.192.jpg  |  Название класса распознанного моделью: ponchik\n",
      "60  |  ponchik.193.jpg  |  Название класса распознанного моделью: ponchik\n",
      "61  |  ponchik.194.jpg  |  Название класса распознанного моделью: ponchik\n",
      "62  |  ponchik.195.jpg  |  Название класса распознанного моделью: ponchik\n",
      "63  |  ponchik.196.jpg  |  Название класса распознанного моделью: ponchik\n",
      "64  |  ponchik.197.jpg  |  Название класса распознанного моделью: ponchik\n",
      "65  |  ponchik.198.jpg  |  Название класса распознанного моделью: ponchik\n",
      "66  |  ponchik.199.jpg  |  Название класса распознанного моделью: ponchik\n",
      "67  |  ponchik.200.jpg  |  Название класса распознанного моделью: ponchik\n",
      "68  |  ponchik.201.jpg  |  Название класса распознанного моделью: ponchik\n",
      "69  |  ponchik.202.jpg  |  Название класса распознанного моделью: ponchik\n",
      "70  |  ponchik.203.jpg  |  Название класса распознанного моделью: ponchik\n",
      "71  |  ponchik.204.jpg  |  Название класса распознанного моделью: ponchik\n",
      "72  |  ponchik.205.jpg  |  Название класса распознанного моделью: ponchik\n",
      "73  |  zavitok.86.jpg  |  Название класса распознанного моделью: zavitok\n",
      "74  |  zavitok.87.jpg  |  Название класса распознанного моделью: zavitok\n",
      "75  |  zavitok.88.jpg  |  Название класса распознанного моделью: zavitok\n",
      "76  |  zavitok.89.jpg  |  Название класса распознанного моделью: zavitok\n",
      "77  |  zavitok.90.jpg  |  Название класса распознанного моделью: cruassan\n",
      "78  |  zavitok.91.jpg  |  Название класса распознанного моделью: zavitok\n",
      "79  |  zavitok.92.jpg  |  Название класса распознанного моделью: zavitok\n",
      "80  |  zavitok.93.jpg  |  Название класса распознанного моделью: zavitok\n",
      "81  |  zavitok.94.jpg  |  Название класса распознанного моделью: zavitok\n",
      "82  |  zavitok.95.jpg  |  Название класса распознанного моделью: zavitok\n"
     ]
    }
   ],
   "source": [
    "# загружаем созданный csv-файл со списком тестовых картинок и отображаем результаты теста по каждой\n",
    "confidence = []\n",
    "spisoktest = pandas.read_csv(\"./dataset/test.csv\")\n",
    "y = spisoktest.iloc[:,1]\n",
    "for k in range(len(spisoktest)):\n",
    "    label = spisoktest.iloc[k,1]\n",
    "    im = spisoktest.iloc[k,0]\n",
    "    img = image.load_img(im, target_size=(img_width, img_height))\n",
    "    # Преобразуем картинку в массив\n",
    "    x = image.img_to_array(img)\n",
    "    x = x.reshape(1, x.shape[0],x.shape[1],x.shape[2])\n",
    "    # Нормализуем изображение\n",
    "    x /= 255\n",
    "    prediction = model.predict(x)\n",
    "    i = np.argmax(prediction)\n",
    "    confidence.append(prediction[0, :])\n",
    "    picName = spisoktest.iloc[k,0].split('/')[-1]\n",
    "    print(k, \" | \", picName, \" | \", \"Название класса распознанного моделью:\", classes[i])"
   ]
  },
  {
   "cell_type": "code",
   "execution_count": 88,
   "metadata": {},
   "outputs": [],
   "source": [
    "# Вычисляем значения для построения ROC кривой, чтобы оценить качество обученной модели. \n",
    "# Для каждого значения порога определяются значения FAR(false accept rate) и TAR (true accept rate).\n",
    "\n",
    "FAR = []\n",
    "TAR = []\n",
    "for t in range(101):\n",
    "    t/=100.0\n",
    "    tp = 0\n",
    "    tn = 0\n",
    "    fp = 0\n",
    "    fn = 0\n",
    "    for k in range(len(confidence)):\n",
    "        for i in range(len(classes)):\n",
    "            if classes[i] != y.loc[k]:\n",
    "                if confidence[k][i] >= t:\n",
    "                    fp += 1\n",
    "                else:\n",
    "                    tn += 1\n",
    "            else:\n",
    "                if confidence[k][i] >= t:\n",
    "                    tp += 1\n",
    "                else:\n",
    "                    fn += 1\n",
    "    TAR.append(tp/(tp+fn))\n",
    "    FAR.append(fp/(tn+fp))  "
   ]
  },
  {
   "cell_type": "code",
   "execution_count": 89,
   "metadata": {},
   "outputs": [
    {
     "data": {
      "image/png": "[encoded data removed]",
      "text/plain": [
       "<Figure size 432x288 with 1 Axes>"
      ]
     },
     "metadata": {},
     "output_type": "display_data"
    }
   ],
   "source": [
    "import matplotlib.pyplot as plt\n",
    "%matplotlib inline\n",
    "\n",
    "# Отображаем на графике ROC кривую - \n",
    "# рисуем точки в соответсвии со значениями FAR по оси абсцисс, а TAR – оси ординат.\n",
    "\n",
    "plt.style.use('seaborn-whitegrid')\n",
    "plt.plot(FAR, TAR,'-b', label = 'classificator')\n",
    "plt.plot([0,1], [0,1],'-r', label = 'diagonal')\n",
    "plt.legend(ncol=2)\n",
    "plt.xlabel('False accept rate')\n",
    "plt.ylabel('True accept rate')\n",
    "plt.title('ROC curve')\n",
    "plt.show()"
   ]
  },
  {
   "cell_type": "code",
   "execution_count": null,
   "metadata": {},
   "outputs": [],
   "source": []
  }
 ],
 "metadata": {
  "kernelspec": {
   "display_name": "Python 3",
   "language": "python",
   "name": "python3"
  },
  "language_info": {
   "codemirror_mode": {
    "name": "ipython",
    "version": 3
   },
   "file_extension": ".py",
   "mimetype": "text/x-python",
   "name": "python",
   "nbconvert_exporter": "python",
   "pygments_lexer": "ipython3",
   "version": "3.7.3"
  }
 },
 "nbformat": 4,
 "nbformat_minor": 2
}
